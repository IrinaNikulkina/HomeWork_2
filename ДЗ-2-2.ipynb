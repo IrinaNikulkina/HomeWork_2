{
 "cells": [
  {
   "cell_type": "markdown",
   "metadata": {
    "collapsed": true
   },
   "source": [
    "# Домашнее задание 2 \n",
    "\n",
    "Необходимо реализовать схему, указанную в hw_diagram.pdf \n"
   ]
  },
  {
   "cell_type": "markdown",
   "metadata": {},
   "source": [
    "## Описание таблиц \n",
    "PeopleStatus - Описание возможных статусов людей, которые есть в университете (Студент, Преподаватель).\n",
    "Faculties - Описание факультетов, которые есть в университете (KIB, IT, и т.д.).\n",
    "People - Информация о людях в университете (Имя, почта, ссылка на факультет, ссылка на статус).\n",
    "Classes - Описание возможных классов в университете (название (Математический анализ) и ссылка на факультет).\n",
    "Semesters - Справочник семестров факультета(например, Осень2016, '2016-01-01', '2016-12-31').\n",
    "ClassesSchedule - Расписание классов (ссылки на семестр, преподавателя и курс, день недели, время начала).\n",
    "StudentsSchedule - Таблица, описывающая, какой студент ходит на какой курс."
   ]
  },
  {
   "cell_type": "code",
   "execution_count": 3,
   "metadata": {
    "collapsed": false
   },
   "outputs": [
    {
     "name": "stdout",
     "output_type": "stream",
     "text": [
      "The sql extension is already loaded. To reload it, use:\n",
      "  %reload_ext sql\n"
     ]
    },
    {
     "data": {
      "text/plain": [
       "'Connected: None@None'"
      ]
     },
     "execution_count": 3,
     "metadata": {},
     "output_type": "execute_result"
    }
   ],
   "source": [
    "%load_ext sql\n",
    "%sql sqlite://\n",
    "    "
   ]
  },
  {
   "cell_type": "markdown",
   "metadata": {},
   "source": [
    "## Создание таблиц\n",
    "Напишет ниже скрипты по созданию таблиц с учетом всех внешних ключей."
   ]
  },
  {
   "cell_type": "code",
   "execution_count": 4,
   "metadata": {
    "collapsed": false
   },
   "outputs": [
    {
     "name": "stdout",
     "output_type": "stream",
     "text": [
      "Done.\n",
      "0 rows affected.\n",
      "Done.\n",
      "Done.\n",
      "0 rows affected.\n",
      "Done.\n",
      "0 rows affected.\n",
      "Done.\n",
      "Done.\n",
      "0 rows affected.\n",
      "Done.\n",
      "Done.\n",
      "0 rows affected.\n",
      "Done.\n",
      "0 rows affected.\n",
      "Done.\n",
      "Done.\n",
      "0 rows affected.\n"
     ]
    },
    {
     "data": {
      "text/plain": [
       "[]"
      ]
     },
     "execution_count": 4,
     "metadata": {},
     "output_type": "execute_result"
    }
   ],
   "source": [
    "%%sql \n",
    "drop table if exists Faculties;\n",
    "create table Faculties(\n",
    "       Id           integer(0,0) primary key,\n",
    "       name         varchar(0,0)\n",
    ");\n",
    "\n",
    "drop table if exists Classes;\n",
    "pragma foreign_keys = ON;\n",
    "create table Classes(\n",
    "    Id           integer(0,0) primary key,\n",
    "    description  varchar(0, 0),\n",
    "    fac_id       integer(0, 0),\n",
    "    foreign key (fac_id) references Faculties (Id)\n",
    ");\n",
    " \n",
    "drop table if exists Semesters;\n",
    "create table Semesters(\n",
    "    Id           integer(0,0) primary key,\n",
    "    shortname    varchar(0, 0),\n",
    "    date_start   date(0, 0),\n",
    "    date_end     date(0, 0)\n",
    "    \n",
    ");\n",
    "\n",
    "drop table if exists ClassesSchedule;\n",
    "pragma foreign_keys = ON;\n",
    "create table ClassesSchedule(\n",
    "    Id           integer(0,0) primary key,\n",
    "    class_id     integer(0, 0),\n",
    "    teacher_id   integer(0, 0),\n",
    "    semester_id  integer(0, 0),\n",
    "    week_day     integer(0, 0),\n",
    "    time_start   varchar(0, 0),\n",
    "    foreign key (class_id) references  Classes(Id ),\n",
    "    foreign key (teacher_id ) references  People(Id ),\n",
    "    foreign key (semester_id) references  Semesters(Id )\n",
    "    \n",
    "    \n",
    ");\n",
    "\n",
    "drop table if exists People;\n",
    "pragma foreign_keys = ON;\n",
    "create table People(\n",
    "    Id           integer(0,0) primary key,\n",
    "    name         varchar(0, 0),\n",
    "    email        varchar(0, 0),\n",
    "    fac_id       integer(0, 0),\n",
    "    status_id    integer(0, 0),\n",
    "    foreign key (fac_id )  references Faculties(Id),\n",
    "    foreign key ( status_id )  references PeopleStatus(Id)\n",
    "\n",
    ");\n",
    "\n",
    "drop table if exists PeopleStatus;\n",
    "create table PeopleStatus(\n",
    "    Id           integer(0,0) primary key,\n",
    "    name         varchar(0, 0)\n",
    ");\n",
    "\n",
    "drop table if exists StudentsSchedule;\n",
    "pragma foreign_keys = ON;\n",
    "create table StudentsSchedule(\n",
    "    student_id             integer(0, 0) ,\n",
    "    classesschedule_id     integer(0, 0) ,\n",
    "    primary key (student_id, classesschedule_id),\n",
    "     foreign key ( student_id )  references People(Id),\n",
    "     foreign key ( classesschedule_id   )  references ClassesSchedule(Id)\n",
    "    \n",
    "   \n",
    "    \n",
    ");\n",
    "\n"
   ]
  },
  {
   "cell_type": "markdown",
   "metadata": {},
   "source": [
    "## Добавление записей в таблицы\n",
    "Приведите примеры добавления записей в каждую из таблиц\n"
   ]
  },
  {
   "cell_type": "code",
   "execution_count": 5,
   "metadata": {
    "collapsed": false
   },
   "outputs": [
    {
     "name": "stdout",
     "output_type": "stream",
     "text": [
      "1 rows affected.\n",
      "1 rows affected.\n",
      "1 rows affected.\n",
      "1 rows affected.\n",
      "1 rows affected.\n",
      "1 rows affected.\n",
      "1 rows affected.\n",
      "1 rows affected.\n",
      "1 rows affected.\n",
      "1 rows affected.\n",
      "1 rows affected.\n",
      "1 rows affected.\n"
     ]
    },
    {
     "data": {
      "text/plain": [
       "[]"
      ]
     },
     "execution_count": 5,
     "metadata": {},
     "output_type": "execute_result"
    }
   ],
   "source": [
    "%%sql\n",
    "insert into Faculties (Id, name) values(1, 'KIB');\n",
    "insert into Faculties(Id, name) values(2, 'IT');\n",
    "insert into PeopleStatus(Id, name) values(1, 'Студент');\n",
    "insert into PeopleStatus(Id, name)  values(2, 'Преподаватель');\n",
    "insert into Semesters (id, shortname, date_start, date_end) values(1, 'Осень', '2016-09-01', '2016-12-31');\n",
    "insert into Semesters (id, shortname, date_start, date_end) values(2, 'Весна', '2017-02-05', '2017-06-07');\n",
    "insert into Classes (id, description, fac_id) values(1, 'M', 1);\n",
    "insert into Classes (id, description, fac_id) values(2, 'M', 2);\n",
    "insert into People (id, name, email, fac_id, status_id) values(1, 'Джон', '11@mail.ru', 1, 2);\n",
    "insert into People (id, name, email, fac_id, status_id) values(2, 'Константин', '22@mail.ru', 1, 1);\n",
    "insert into ClassesSchedule (id, class_id, teacher_id, semester_id, week_day,time_start) \n",
    "    values(1, 2, 1, 1, 'Понедельник', '09:00');\n",
    "insert into StudentsSchedule (student_id, classesschedule_id) values(2, 1);"
   ]
  },
  {
   "cell_type": "markdown",
   "metadata": {},
   "source": [
    "Находится ли указанная схема ниже в BCNF? Напишите ниже функциональные зависимости, которые вы считаете, есть в указанной схеме. "
   ]
  },
  {
   "cell_type": "markdown",
   "metadata": {},
   "source": []
  }
 ],
 "metadata": {
  "kernelspec": {
   "display_name": "Python 3",
   "language": "python",
   "name": "python3"
  },
  "language_info": {
   "codemirror_mode": {
    "name": "ipython",
    "version": 3
   },
   "file_extension": ".py",
   "mimetype": "text/x-python",
   "name": "python",
   "nbconvert_exporter": "python",
   "pygments_lexer": "ipython3",
   "version": "3.6.0"
  }
 },
 "nbformat": 4,
 "nbformat_minor": 2
}
