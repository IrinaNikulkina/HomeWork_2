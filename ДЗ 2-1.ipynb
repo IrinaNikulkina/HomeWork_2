{
 "cells": [
  {
   "cell_type": "code",
   "execution_count": null,
   "metadata": {
    "collapsed": false
   },
   "outputs": [],
   "source": [
    "%load_ext sql\n",
    "\n",
    "%sql sqlite:///chinook.db"
   ]
  },
  {
   "cell_type": "markdown",
   "metadata": {},
   "source": [
    "# Задание 1\n",
    "\n",
    "Необходимо вывести названия треков, которые были приобретены компаниями, которые обслуживаются сотрудниками, нанятыми после 1 сентября 2002 года. \n",
    "    "
   ]
  },
  {
   "cell_type": "code",
   "execution_count": null,
   "metadata": {
    "collapsed": false
   },
   "outputs": [],
   "source": [
    "%%sql\n",
    "select t.Name, invoiceDate, company\n",
    "from  employees e, customers c, invoice_items inv , invoices n, tracks t\n",
    "where e.ReportsTo=c.SupportRepId and  n.InvoiceId=inv.InvoiceId \n",
    "and  inv.TrackId=t.TrackId and n.customerId=n.customerId and\n",
    "invoiceDate > '2002-09-01'"
   ]
  },
  {
   "cell_type": "markdown",
   "metadata": {},
   "source": [
    "## Задание 2\n",
    "Вывести общую стоимость и продолжительность каждого плейлиста."
   ]
  },
  {
   "cell_type": "code",
   "execution_count": null,
   "metadata": {
    "collapsed": false
   },
   "outputs": [],
   "source": [
    "%%sql \n",
    "select sum(t.Milliseconds), sum(t.UnitPrice), p.Name\n",
    "from playlists p, playlist_track pl, tracks t\n",
    "where p.PlaylistId=pl.PlaylistId and t.TrackId=pl.TrackId\n",
    "group by p.Name"
   ]
  },
  {
   "cell_type": "markdown",
   "metadata": {},
   "source": [
    "## Задание 3\n",
    "Для каждого артиста определить все жанры песен, которые у него есть и количество песен по каждому жанру.\n"
   ]
  },
  {
   "cell_type": "code",
   "execution_count": null,
   "metadata": {
    "collapsed": false
   },
   "outputs": [],
   "source": [
    "%%sql \n",
    "select ar.Name, g.Name, count(g.Name)\n",
    "from  genres g, artists ar, albums al, tracks t\n",
    "where g.genreId =t.genreId and t.albumId = al.albumId and al.artistId=ar.artistId\n",
    "group by ar.Name, g.Name"
   ]
  },
  {
   "cell_type": "markdown",
   "metadata": {},
   "source": [
    "## Задание 4\n",
    "Для каждого артиста найти жанр, по которому он заработал наибольшее количество денег, а также вывести соотношение общей суммы, заработанной артистом по всем другим жанрам к общей сумме заработанных денег."
   ]
  },
  {
   "cell_type": "code",
   "execution_count": null,
   "metadata": {
    "collapsed": false
   },
   "outputs": [],
   "source": []
  },
  {
   "cell_type": "markdown",
   "metadata": {},
   "source": [
    "## Задание 5\n",
    "Для каждой компании вывести общее количестов песен, купленных по жанру рок"
   ]
  },
  {
   "cell_type": "code",
   "execution_count": null,
   "metadata": {
    "collapsed": true
   },
   "outputs": [],
   "source": [
    "%%sql \n",
    "select c.company, count(t.Name)\n",
    "from tracks t, genres g, albums a,artists ar, customers c, invoices inv, invoice_items invit\n",
    "where t.GenreId = g.GenreId and t.AlbumId= a.AlbumId and ar.ArtistId=a.ArtistId and inv.CustomerId = c.CustomerId \n",
    "and g.Name='Rock'\n",
    "group by c.company"
   ]
  },
  {
   "cell_type": "markdown",
   "metadata": {},
   "source": [
    "## Задание 6\n",
    "Вывести альбом, который является минимальным по объему(в байтах) среди альбомов со стоимостью, большей средней цены за альбом по всем альбомам с таким же жанром (если у альбома песни с нескольким жанрами, то жанром является тот, у которого наибольшее количество песен в альбоме)"
   ]
  },
  {
   "cell_type": "code",
   "execution_count": null,
   "metadata": {
    "collapsed": true
   },
   "outputs": [],
   "source": []
  }
 ],
 "metadata": {
  "kernelspec": {
   "display_name": "Python 3",
   "language": "python",
   "name": "python3"
  },
  "language_info": {
   "codemirror_mode": {
    "name": "ipython",
    "version": 3
   },
   "file_extension": ".py",
   "mimetype": "text/x-python",
   "name": "python",
   "nbconvert_exporter": "python",
   "pygments_lexer": "ipython3",
   "version": "3.6.0"
  }
 },
 "nbformat": 4,
 "nbformat_minor": 2
}
